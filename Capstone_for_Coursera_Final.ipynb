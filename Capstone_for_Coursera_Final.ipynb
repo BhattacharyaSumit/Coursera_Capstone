{
 "cells": [
  {
   "cell_type": "code",
   "execution_count": 1,
   "metadata": {},
   "outputs": [],
   "source": [
    "import pandas as pd"
   ]
  },
  {
   "cell_type": "code",
   "execution_count": 2,
   "metadata": {},
   "outputs": [],
   "source": [
    "online= pd.read_excel(\"Online Retail.xlsx\")  #importing the data"
   ]
  },
  {
   "cell_type": "code",
   "execution_count": 3,
   "metadata": {},
   "outputs": [
    {
     "data": {
      "text/html": [
       "<div>\n",
       "<style scoped>\n",
       "    .dataframe tbody tr th:only-of-type {\n",
       "        vertical-align: middle;\n",
       "    }\n",
       "\n",
       "    .dataframe tbody tr th {\n",
       "        vertical-align: top;\n",
       "    }\n",
       "\n",
       "    .dataframe thead th {\n",
       "        text-align: right;\n",
       "    }\n",
       "</style>\n",
       "<table border=\"1\" class=\"dataframe\">\n",
       "  <thead>\n",
       "    <tr style=\"text-align: right;\">\n",
       "      <th></th>\n",
       "      <th>InvoiceNo</th>\n",
       "      <th>StockCode</th>\n",
       "      <th>Description</th>\n",
       "      <th>Quantity</th>\n",
       "      <th>InvoiceDate</th>\n",
       "      <th>UnitPrice</th>\n",
       "      <th>CustomerID</th>\n",
       "      <th>Country</th>\n",
       "    </tr>\n",
       "  </thead>\n",
       "  <tbody>\n",
       "    <tr>\n",
       "      <th>0</th>\n",
       "      <td>536365</td>\n",
       "      <td>85123A</td>\n",
       "      <td>WHITE HANGING HEART T-LIGHT HOLDER</td>\n",
       "      <td>6</td>\n",
       "      <td>2010-12-01 08:26:00</td>\n",
       "      <td>2.55</td>\n",
       "      <td>17850.0</td>\n",
       "      <td>United Kingdom</td>\n",
       "    </tr>\n",
       "    <tr>\n",
       "      <th>1</th>\n",
       "      <td>536365</td>\n",
       "      <td>71053</td>\n",
       "      <td>WHITE METAL LANTERN</td>\n",
       "      <td>6</td>\n",
       "      <td>2010-12-01 08:26:00</td>\n",
       "      <td>3.39</td>\n",
       "      <td>17850.0</td>\n",
       "      <td>United Kingdom</td>\n",
       "    </tr>\n",
       "    <tr>\n",
       "      <th>2</th>\n",
       "      <td>536365</td>\n",
       "      <td>84406B</td>\n",
       "      <td>CREAM CUPID HEARTS COAT HANGER</td>\n",
       "      <td>8</td>\n",
       "      <td>2010-12-01 08:26:00</td>\n",
       "      <td>2.75</td>\n",
       "      <td>17850.0</td>\n",
       "      <td>United Kingdom</td>\n",
       "    </tr>\n",
       "    <tr>\n",
       "      <th>3</th>\n",
       "      <td>536365</td>\n",
       "      <td>84029G</td>\n",
       "      <td>KNITTED UNION FLAG HOT WATER BOTTLE</td>\n",
       "      <td>6</td>\n",
       "      <td>2010-12-01 08:26:00</td>\n",
       "      <td>3.39</td>\n",
       "      <td>17850.0</td>\n",
       "      <td>United Kingdom</td>\n",
       "    </tr>\n",
       "    <tr>\n",
       "      <th>4</th>\n",
       "      <td>536365</td>\n",
       "      <td>84029E</td>\n",
       "      <td>RED WOOLLY HOTTIE WHITE HEART.</td>\n",
       "      <td>6</td>\n",
       "      <td>2010-12-01 08:26:00</td>\n",
       "      <td>3.39</td>\n",
       "      <td>17850.0</td>\n",
       "      <td>United Kingdom</td>\n",
       "    </tr>\n",
       "  </tbody>\n",
       "</table>\n",
       "</div>"
      ],
      "text/plain": [
       "  InvoiceNo StockCode                          Description  Quantity  \\\n",
       "0    536365    85123A   WHITE HANGING HEART T-LIGHT HOLDER         6   \n",
       "1    536365     71053                  WHITE METAL LANTERN         6   \n",
       "2    536365    84406B       CREAM CUPID HEARTS COAT HANGER         8   \n",
       "3    536365    84029G  KNITTED UNION FLAG HOT WATER BOTTLE         6   \n",
       "4    536365    84029E       RED WOOLLY HOTTIE WHITE HEART.         6   \n",
       "\n",
       "          InvoiceDate  UnitPrice  CustomerID         Country  \n",
       "0 2010-12-01 08:26:00       2.55     17850.0  United Kingdom  \n",
       "1 2010-12-01 08:26:00       3.39     17850.0  United Kingdom  \n",
       "2 2010-12-01 08:26:00       2.75     17850.0  United Kingdom  \n",
       "3 2010-12-01 08:26:00       3.39     17850.0  United Kingdom  \n",
       "4 2010-12-01 08:26:00       3.39     17850.0  United Kingdom  "
      ]
     },
     "execution_count": 3,
     "metadata": {},
     "output_type": "execute_result"
    }
   ],
   "source": [
    "online.head()"
   ]
  },
  {
   "cell_type": "code",
   "execution_count": 4,
   "metadata": {},
   "outputs": [],
   "source": [
    "def get_day(x): return pd.datetime(x.year, x.month, x.day) #a function to get the day of the invoice excluding time"
   ]
  },
  {
   "cell_type": "code",
   "execution_count": 5,
   "metadata": {},
   "outputs": [],
   "source": [
    "online['InvoiceDay'] = online['InvoiceDate'].apply(get_day) \n",
    "\n",
    "\n",
    "grouping = online.groupby('CustomerID')['InvoiceDay'] \n",
    "\n",
    "\n",
    "online['CohortDay'] = grouping.transform('min')\n"
   ]
  },
  {
   "cell_type": "code",
   "execution_count": 6,
   "metadata": {},
   "outputs": [
    {
     "data": {
      "text/html": [
       "<div>\n",
       "<style scoped>\n",
       "    .dataframe tbody tr th:only-of-type {\n",
       "        vertical-align: middle;\n",
       "    }\n",
       "\n",
       "    .dataframe tbody tr th {\n",
       "        vertical-align: top;\n",
       "    }\n",
       "\n",
       "    .dataframe thead th {\n",
       "        text-align: right;\n",
       "    }\n",
       "</style>\n",
       "<table border=\"1\" class=\"dataframe\">\n",
       "  <thead>\n",
       "    <tr style=\"text-align: right;\">\n",
       "      <th></th>\n",
       "      <th>InvoiceNo</th>\n",
       "      <th>StockCode</th>\n",
       "      <th>Description</th>\n",
       "      <th>Quantity</th>\n",
       "      <th>InvoiceDate</th>\n",
       "      <th>UnitPrice</th>\n",
       "      <th>CustomerID</th>\n",
       "      <th>Country</th>\n",
       "      <th>InvoiceDay</th>\n",
       "      <th>CohortDay</th>\n",
       "    </tr>\n",
       "  </thead>\n",
       "  <tbody>\n",
       "    <tr>\n",
       "      <th>0</th>\n",
       "      <td>536365</td>\n",
       "      <td>85123A</td>\n",
       "      <td>WHITE HANGING HEART T-LIGHT HOLDER</td>\n",
       "      <td>6</td>\n",
       "      <td>2010-12-01 08:26:00</td>\n",
       "      <td>2.55</td>\n",
       "      <td>17850.0</td>\n",
       "      <td>United Kingdom</td>\n",
       "      <td>2010-12-01</td>\n",
       "      <td>2010-12-01</td>\n",
       "    </tr>\n",
       "    <tr>\n",
       "      <th>1</th>\n",
       "      <td>536365</td>\n",
       "      <td>71053</td>\n",
       "      <td>WHITE METAL LANTERN</td>\n",
       "      <td>6</td>\n",
       "      <td>2010-12-01 08:26:00</td>\n",
       "      <td>3.39</td>\n",
       "      <td>17850.0</td>\n",
       "      <td>United Kingdom</td>\n",
       "      <td>2010-12-01</td>\n",
       "      <td>2010-12-01</td>\n",
       "    </tr>\n",
       "    <tr>\n",
       "      <th>2</th>\n",
       "      <td>536365</td>\n",
       "      <td>84406B</td>\n",
       "      <td>CREAM CUPID HEARTS COAT HANGER</td>\n",
       "      <td>8</td>\n",
       "      <td>2010-12-01 08:26:00</td>\n",
       "      <td>2.75</td>\n",
       "      <td>17850.0</td>\n",
       "      <td>United Kingdom</td>\n",
       "      <td>2010-12-01</td>\n",
       "      <td>2010-12-01</td>\n",
       "    </tr>\n",
       "    <tr>\n",
       "      <th>3</th>\n",
       "      <td>536365</td>\n",
       "      <td>84029G</td>\n",
       "      <td>KNITTED UNION FLAG HOT WATER BOTTLE</td>\n",
       "      <td>6</td>\n",
       "      <td>2010-12-01 08:26:00</td>\n",
       "      <td>3.39</td>\n",
       "      <td>17850.0</td>\n",
       "      <td>United Kingdom</td>\n",
       "      <td>2010-12-01</td>\n",
       "      <td>2010-12-01</td>\n",
       "    </tr>\n",
       "    <tr>\n",
       "      <th>4</th>\n",
       "      <td>536365</td>\n",
       "      <td>84029E</td>\n",
       "      <td>RED WOOLLY HOTTIE WHITE HEART.</td>\n",
       "      <td>6</td>\n",
       "      <td>2010-12-01 08:26:00</td>\n",
       "      <td>3.39</td>\n",
       "      <td>17850.0</td>\n",
       "      <td>United Kingdom</td>\n",
       "      <td>2010-12-01</td>\n",
       "      <td>2010-12-01</td>\n",
       "    </tr>\n",
       "  </tbody>\n",
       "</table>\n",
       "</div>"
      ],
      "text/plain": [
       "  InvoiceNo StockCode                          Description  Quantity  \\\n",
       "0    536365    85123A   WHITE HANGING HEART T-LIGHT HOLDER         6   \n",
       "1    536365     71053                  WHITE METAL LANTERN         6   \n",
       "2    536365    84406B       CREAM CUPID HEARTS COAT HANGER         8   \n",
       "3    536365    84029G  KNITTED UNION FLAG HOT WATER BOTTLE         6   \n",
       "4    536365    84029E       RED WOOLLY HOTTIE WHITE HEART.         6   \n",
       "\n",
       "          InvoiceDate  UnitPrice  CustomerID         Country InvoiceDay  \\\n",
       "0 2010-12-01 08:26:00       2.55     17850.0  United Kingdom 2010-12-01   \n",
       "1 2010-12-01 08:26:00       3.39     17850.0  United Kingdom 2010-12-01   \n",
       "2 2010-12-01 08:26:00       2.75     17850.0  United Kingdom 2010-12-01   \n",
       "3 2010-12-01 08:26:00       3.39     17850.0  United Kingdom 2010-12-01   \n",
       "4 2010-12-01 08:26:00       3.39     17850.0  United Kingdom 2010-12-01   \n",
       "\n",
       "   CohortDay  \n",
       "0 2010-12-01  \n",
       "1 2010-12-01  \n",
       "2 2010-12-01  \n",
       "3 2010-12-01  \n",
       "4 2010-12-01  "
      ]
     },
     "execution_count": 6,
     "metadata": {},
     "output_type": "execute_result"
    }
   ],
   "source": [
    "online.head()"
   ]
  },
  {
   "cell_type": "code",
   "execution_count": 7,
   "metadata": {},
   "outputs": [],
   "source": [
    "def get_date_int(df, column):  # function to get the year, month, day of the date\n",
    "    year = df[column].dt.year\n",
    "    month = df[column].dt.month\n",
    "    day = df[column].dt.day\n",
    "    return year, month, day"
   ]
  },
  {
   "cell_type": "code",
   "execution_count": 8,
   "metadata": {},
   "outputs": [],
   "source": [
    "invoice_year, invoice_month, invoice_day = get_date_int(online, 'InvoiceDay')\n",
    "\n",
    "cohort_year, cohort_month, cohort_day = get_date_int(online, 'CohortDay')"
   ]
  },
  {
   "cell_type": "code",
   "execution_count": 9,
   "metadata": {},
   "outputs": [],
   "source": [
    "years_diff = invoice_year - cohort_year\n",
    "\n",
    "\n",
    "months_diff = invoice_month - cohort_month\n",
    "\n",
    "\n",
    "days_diff = invoice_day- cohort_day\n",
    "\n",
    "\n",
    "online['CohortIndex'] = years_diff * 365 + months_diff * 30 + days_diff + 1"
   ]
  },
  {
   "cell_type": "code",
   "execution_count": 10,
   "metadata": {},
   "outputs": [
    {
     "data": {
      "text/html": [
       "<div>\n",
       "<style scoped>\n",
       "    .dataframe tbody tr th:only-of-type {\n",
       "        vertical-align: middle;\n",
       "    }\n",
       "\n",
       "    .dataframe tbody tr th {\n",
       "        vertical-align: top;\n",
       "    }\n",
       "\n",
       "    .dataframe thead th {\n",
       "        text-align: right;\n",
       "    }\n",
       "</style>\n",
       "<table border=\"1\" class=\"dataframe\">\n",
       "  <thead>\n",
       "    <tr style=\"text-align: right;\">\n",
       "      <th></th>\n",
       "      <th>InvoiceNo</th>\n",
       "      <th>StockCode</th>\n",
       "      <th>Description</th>\n",
       "      <th>Quantity</th>\n",
       "      <th>InvoiceDate</th>\n",
       "      <th>UnitPrice</th>\n",
       "      <th>CustomerID</th>\n",
       "      <th>Country</th>\n",
       "      <th>InvoiceDay</th>\n",
       "      <th>CohortDay</th>\n",
       "      <th>CohortIndex</th>\n",
       "    </tr>\n",
       "  </thead>\n",
       "  <tbody>\n",
       "    <tr>\n",
       "      <th>0</th>\n",
       "      <td>536365</td>\n",
       "      <td>85123A</td>\n",
       "      <td>WHITE HANGING HEART T-LIGHT HOLDER</td>\n",
       "      <td>6</td>\n",
       "      <td>2010-12-01 08:26:00</td>\n",
       "      <td>2.55</td>\n",
       "      <td>17850.0</td>\n",
       "      <td>United Kingdom</td>\n",
       "      <td>2010-12-01</td>\n",
       "      <td>2010-12-01</td>\n",
       "      <td>1.0</td>\n",
       "    </tr>\n",
       "    <tr>\n",
       "      <th>1</th>\n",
       "      <td>536365</td>\n",
       "      <td>71053</td>\n",
       "      <td>WHITE METAL LANTERN</td>\n",
       "      <td>6</td>\n",
       "      <td>2010-12-01 08:26:00</td>\n",
       "      <td>3.39</td>\n",
       "      <td>17850.0</td>\n",
       "      <td>United Kingdom</td>\n",
       "      <td>2010-12-01</td>\n",
       "      <td>2010-12-01</td>\n",
       "      <td>1.0</td>\n",
       "    </tr>\n",
       "    <tr>\n",
       "      <th>2</th>\n",
       "      <td>536365</td>\n",
       "      <td>84406B</td>\n",
       "      <td>CREAM CUPID HEARTS COAT HANGER</td>\n",
       "      <td>8</td>\n",
       "      <td>2010-12-01 08:26:00</td>\n",
       "      <td>2.75</td>\n",
       "      <td>17850.0</td>\n",
       "      <td>United Kingdom</td>\n",
       "      <td>2010-12-01</td>\n",
       "      <td>2010-12-01</td>\n",
       "      <td>1.0</td>\n",
       "    </tr>\n",
       "    <tr>\n",
       "      <th>3</th>\n",
       "      <td>536365</td>\n",
       "      <td>84029G</td>\n",
       "      <td>KNITTED UNION FLAG HOT WATER BOTTLE</td>\n",
       "      <td>6</td>\n",
       "      <td>2010-12-01 08:26:00</td>\n",
       "      <td>3.39</td>\n",
       "      <td>17850.0</td>\n",
       "      <td>United Kingdom</td>\n",
       "      <td>2010-12-01</td>\n",
       "      <td>2010-12-01</td>\n",
       "      <td>1.0</td>\n",
       "    </tr>\n",
       "    <tr>\n",
       "      <th>4</th>\n",
       "      <td>536365</td>\n",
       "      <td>84029E</td>\n",
       "      <td>RED WOOLLY HOTTIE WHITE HEART.</td>\n",
       "      <td>6</td>\n",
       "      <td>2010-12-01 08:26:00</td>\n",
       "      <td>3.39</td>\n",
       "      <td>17850.0</td>\n",
       "      <td>United Kingdom</td>\n",
       "      <td>2010-12-01</td>\n",
       "      <td>2010-12-01</td>\n",
       "      <td>1.0</td>\n",
       "    </tr>\n",
       "  </tbody>\n",
       "</table>\n",
       "</div>"
      ],
      "text/plain": [
       "  InvoiceNo StockCode                          Description  Quantity  \\\n",
       "0    536365    85123A   WHITE HANGING HEART T-LIGHT HOLDER         6   \n",
       "1    536365     71053                  WHITE METAL LANTERN         6   \n",
       "2    536365    84406B       CREAM CUPID HEARTS COAT HANGER         8   \n",
       "3    536365    84029G  KNITTED UNION FLAG HOT WATER BOTTLE         6   \n",
       "4    536365    84029E       RED WOOLLY HOTTIE WHITE HEART.         6   \n",
       "\n",
       "          InvoiceDate  UnitPrice  CustomerID         Country InvoiceDay  \\\n",
       "0 2010-12-01 08:26:00       2.55     17850.0  United Kingdom 2010-12-01   \n",
       "1 2010-12-01 08:26:00       3.39     17850.0  United Kingdom 2010-12-01   \n",
       "2 2010-12-01 08:26:00       2.75     17850.0  United Kingdom 2010-12-01   \n",
       "3 2010-12-01 08:26:00       3.39     17850.0  United Kingdom 2010-12-01   \n",
       "4 2010-12-01 08:26:00       3.39     17850.0  United Kingdom 2010-12-01   \n",
       "\n",
       "   CohortDay  CohortIndex  \n",
       "0 2010-12-01          1.0  \n",
       "1 2010-12-01          1.0  \n",
       "2 2010-12-01          1.0  \n",
       "3 2010-12-01          1.0  \n",
       "4 2010-12-01          1.0  "
      ]
     },
     "execution_count": 10,
     "metadata": {},
     "output_type": "execute_result"
    }
   ],
   "source": [
    "online.head()"
   ]
  },
  {
   "cell_type": "code",
   "execution_count": 11,
   "metadata": {},
   "outputs": [],
   "source": [
    "# Grouping the data on the basis of Cohort day and Cohort Index and shifting the values of the Cohort Index to the columns\n",
    "grouping = online.groupby(['CohortDay', 'CohortIndex'])\n",
    "cohort_data = grouping['CustomerID'].apply(pd.Series.nunique).reset_index()\n",
    "\n",
    " \n",
    "cohort_counts = cohort_data.pivot(index='CohortDay', columns='CohortIndex', values='CustomerID')\n",
    "\n",
    "\n",
    "cohort_sizes = cohort_counts.iloc[:,0]\n",
    "\n",
    "\n",
    "retention = cohort_counts.divide(cohort_sizes, axis=0)"
   ]
  },
  {
   "cell_type": "code",
   "execution_count": 12,
   "metadata": {},
   "outputs": [
    {
     "data": {
      "text/html": [
       "<div>\n",
       "<style scoped>\n",
       "    .dataframe tbody tr th:only-of-type {\n",
       "        vertical-align: middle;\n",
       "    }\n",
       "\n",
       "    .dataframe tbody tr th {\n",
       "        vertical-align: top;\n",
       "    }\n",
       "\n",
       "    .dataframe thead th {\n",
       "        text-align: right;\n",
       "    }\n",
       "</style>\n",
       "<table border=\"1\" class=\"dataframe\">\n",
       "  <thead>\n",
       "    <tr style=\"text-align: right;\">\n",
       "      <th>CohortIndex</th>\n",
       "      <th>1.0</th>\n",
       "      <th>2.0</th>\n",
       "      <th>3.0</th>\n",
       "      <th>4.0</th>\n",
       "      <th>5.0</th>\n",
       "      <th>6.0</th>\n",
       "      <th>7.0</th>\n",
       "      <th>8.0</th>\n",
       "      <th>9.0</th>\n",
       "      <th>10.0</th>\n",
       "      <th>...</th>\n",
       "      <th>365.0</th>\n",
       "      <th>366.0</th>\n",
       "      <th>367.0</th>\n",
       "      <th>368.0</th>\n",
       "      <th>369.0</th>\n",
       "      <th>370.0</th>\n",
       "      <th>371.0</th>\n",
       "      <th>372.0</th>\n",
       "      <th>373.0</th>\n",
       "      <th>374.0</th>\n",
       "    </tr>\n",
       "    <tr>\n",
       "      <th>CohortDay</th>\n",
       "      <th></th>\n",
       "      <th></th>\n",
       "      <th></th>\n",
       "      <th></th>\n",
       "      <th></th>\n",
       "      <th></th>\n",
       "      <th></th>\n",
       "      <th></th>\n",
       "      <th></th>\n",
       "      <th></th>\n",
       "      <th></th>\n",
       "      <th></th>\n",
       "      <th></th>\n",
       "      <th></th>\n",
       "      <th></th>\n",
       "      <th></th>\n",
       "      <th></th>\n",
       "      <th></th>\n",
       "      <th></th>\n",
       "      <th></th>\n",
       "      <th></th>\n",
       "    </tr>\n",
       "  </thead>\n",
       "  <tbody>\n",
       "    <tr>\n",
       "      <th>2010-12-01</th>\n",
       "      <td>1.0</td>\n",
       "      <td>0.091837</td>\n",
       "      <td>0.040816</td>\n",
       "      <td>NaN</td>\n",
       "      <td>0.071429</td>\n",
       "      <td>0.071429</td>\n",
       "      <td>0.040816</td>\n",
       "      <td>0.102041</td>\n",
       "      <td>0.102041</td>\n",
       "      <td>0.051020</td>\n",
       "      <td>...</td>\n",
       "      <td>0.081633</td>\n",
       "      <td>0.091837</td>\n",
       "      <td>0.081633</td>\n",
       "      <td>NaN</td>\n",
       "      <td>0.020408</td>\n",
       "      <td>0.051020</td>\n",
       "      <td>0.081633</td>\n",
       "      <td>0.071429</td>\n",
       "      <td>0.081633</td>\n",
       "      <td>0.05102</td>\n",
       "    </tr>\n",
       "    <tr>\n",
       "      <th>2010-12-02</th>\n",
       "      <td>1.0</td>\n",
       "      <td>0.018519</td>\n",
       "      <td>NaN</td>\n",
       "      <td>NaN</td>\n",
       "      <td>0.027778</td>\n",
       "      <td>0.064815</td>\n",
       "      <td>0.046296</td>\n",
       "      <td>0.111111</td>\n",
       "      <td>0.046296</td>\n",
       "      <td>NaN</td>\n",
       "      <td>...</td>\n",
       "      <td>0.083333</td>\n",
       "      <td>0.046296</td>\n",
       "      <td>NaN</td>\n",
       "      <td>NaN</td>\n",
       "      <td>0.037037</td>\n",
       "      <td>0.027778</td>\n",
       "      <td>0.046296</td>\n",
       "      <td>0.027778</td>\n",
       "      <td>0.018519</td>\n",
       "      <td>NaN</td>\n",
       "    </tr>\n",
       "    <tr>\n",
       "      <th>2010-12-03</th>\n",
       "      <td>1.0</td>\n",
       "      <td>NaN</td>\n",
       "      <td>0.020408</td>\n",
       "      <td>0.020408</td>\n",
       "      <td>0.020408</td>\n",
       "      <td>0.040816</td>\n",
       "      <td>0.102041</td>\n",
       "      <td>NaN</td>\n",
       "      <td>NaN</td>\n",
       "      <td>0.020408</td>\n",
       "      <td>...</td>\n",
       "      <td>0.102041</td>\n",
       "      <td>NaN</td>\n",
       "      <td>0.040816</td>\n",
       "      <td>0.040816</td>\n",
       "      <td>0.102041</td>\n",
       "      <td>0.020408</td>\n",
       "      <td>0.081633</td>\n",
       "      <td>NaN</td>\n",
       "      <td>NaN</td>\n",
       "      <td>NaN</td>\n",
       "    </tr>\n",
       "    <tr>\n",
       "      <th>2010-12-05</th>\n",
       "      <td>1.0</td>\n",
       "      <td>0.044118</td>\n",
       "      <td>0.044118</td>\n",
       "      <td>0.029412</td>\n",
       "      <td>0.044118</td>\n",
       "      <td>0.014706</td>\n",
       "      <td>NaN</td>\n",
       "      <td>0.088235</td>\n",
       "      <td>0.102941</td>\n",
       "      <td>0.044118</td>\n",
       "      <td>...</td>\n",
       "      <td>0.088235</td>\n",
       "      <td>0.029412</td>\n",
       "      <td>0.044118</td>\n",
       "      <td>0.058824</td>\n",
       "      <td>0.044118</td>\n",
       "      <td>0.014706</td>\n",
       "      <td>NaN</td>\n",
       "      <td>NaN</td>\n",
       "      <td>NaN</td>\n",
       "      <td>NaN</td>\n",
       "    </tr>\n",
       "    <tr>\n",
       "      <th>2010-12-06</th>\n",
       "      <td>1.0</td>\n",
       "      <td>0.026316</td>\n",
       "      <td>0.052632</td>\n",
       "      <td>0.052632</td>\n",
       "      <td>0.013158</td>\n",
       "      <td>NaN</td>\n",
       "      <td>0.013158</td>\n",
       "      <td>0.039474</td>\n",
       "      <td>0.171053</td>\n",
       "      <td>0.092105</td>\n",
       "      <td>...</td>\n",
       "      <td>0.039474</td>\n",
       "      <td>0.039474</td>\n",
       "      <td>0.078947</td>\n",
       "      <td>0.039474</td>\n",
       "      <td>0.013158</td>\n",
       "      <td>NaN</td>\n",
       "      <td>NaN</td>\n",
       "      <td>NaN</td>\n",
       "      <td>NaN</td>\n",
       "      <td>NaN</td>\n",
       "    </tr>\n",
       "  </tbody>\n",
       "</table>\n",
       "<p>5 rows × 374 columns</p>\n",
       "</div>"
      ],
      "text/plain": [
       "CohortIndex  1.0       2.0       3.0       4.0       5.0       6.0    \\\n",
       "CohortDay                                                              \n",
       "2010-12-01     1.0  0.091837  0.040816       NaN  0.071429  0.071429   \n",
       "2010-12-02     1.0  0.018519       NaN       NaN  0.027778  0.064815   \n",
       "2010-12-03     1.0       NaN  0.020408  0.020408  0.020408  0.040816   \n",
       "2010-12-05     1.0  0.044118  0.044118  0.029412  0.044118  0.014706   \n",
       "2010-12-06     1.0  0.026316  0.052632  0.052632  0.013158       NaN   \n",
       "\n",
       "CohortIndex     7.0       8.0       9.0       10.0    ...        365.0  \\\n",
       "CohortDay                                             ...                \n",
       "2010-12-01   0.040816  0.102041  0.102041  0.051020   ...     0.081633   \n",
       "2010-12-02   0.046296  0.111111  0.046296       NaN   ...     0.083333   \n",
       "2010-12-03   0.102041       NaN       NaN  0.020408   ...     0.102041   \n",
       "2010-12-05        NaN  0.088235  0.102941  0.044118   ...     0.088235   \n",
       "2010-12-06   0.013158  0.039474  0.171053  0.092105   ...     0.039474   \n",
       "\n",
       "CohortIndex     366.0     367.0     368.0     369.0     370.0     371.0  \\\n",
       "CohortDay                                                                 \n",
       "2010-12-01   0.091837  0.081633       NaN  0.020408  0.051020  0.081633   \n",
       "2010-12-02   0.046296       NaN       NaN  0.037037  0.027778  0.046296   \n",
       "2010-12-03        NaN  0.040816  0.040816  0.102041  0.020408  0.081633   \n",
       "2010-12-05   0.029412  0.044118  0.058824  0.044118  0.014706       NaN   \n",
       "2010-12-06   0.039474  0.078947  0.039474  0.013158       NaN       NaN   \n",
       "\n",
       "CohortIndex     372.0     373.0    374.0  \n",
       "CohortDay                                 \n",
       "2010-12-01   0.071429  0.081633  0.05102  \n",
       "2010-12-02   0.027778  0.018519      NaN  \n",
       "2010-12-03        NaN       NaN      NaN  \n",
       "2010-12-05        NaN       NaN      NaN  \n",
       "2010-12-06        NaN       NaN      NaN  \n",
       "\n",
       "[5 rows x 374 columns]"
      ]
     },
     "execution_count": 12,
     "metadata": {},
     "output_type": "execute_result"
    }
   ],
   "source": [
    "retention.head()\n"
   ]
  },
  {
   "cell_type": "code",
   "execution_count": 13,
   "metadata": {},
   "outputs": [],
   "source": [
    "cohort_data2 = grouping['UnitPrice'].mean()\n",
    "\n",
    "\n",
    "cohort_data2 = cohort_data2.reset_index()\n",
    "\n",
    " \n",
    "average_quantity = cohort_data2.pivot(index='CohortDay', columns='CohortIndex', values='UnitPrice')"
   ]
  },
  {
   "cell_type": "code",
   "execution_count": 14,
   "metadata": {},
   "outputs": [
    {
     "data": {
      "text/html": [
       "<div>\n",
       "<style scoped>\n",
       "    .dataframe tbody tr th:only-of-type {\n",
       "        vertical-align: middle;\n",
       "    }\n",
       "\n",
       "    .dataframe tbody tr th {\n",
       "        vertical-align: top;\n",
       "    }\n",
       "\n",
       "    .dataframe thead th {\n",
       "        text-align: right;\n",
       "    }\n",
       "</style>\n",
       "<table border=\"1\" class=\"dataframe\">\n",
       "  <thead>\n",
       "    <tr style=\"text-align: right;\">\n",
       "      <th>CohortIndex</th>\n",
       "      <th>1.0</th>\n",
       "      <th>2.0</th>\n",
       "      <th>3.0</th>\n",
       "      <th>4.0</th>\n",
       "      <th>5.0</th>\n",
       "      <th>6.0</th>\n",
       "      <th>7.0</th>\n",
       "      <th>8.0</th>\n",
       "      <th>9.0</th>\n",
       "      <th>10.0</th>\n",
       "      <th>...</th>\n",
       "      <th>365.0</th>\n",
       "      <th>366.0</th>\n",
       "      <th>367.0</th>\n",
       "      <th>368.0</th>\n",
       "      <th>369.0</th>\n",
       "      <th>370.0</th>\n",
       "      <th>371.0</th>\n",
       "      <th>372.0</th>\n",
       "      <th>373.0</th>\n",
       "      <th>374.0</th>\n",
       "    </tr>\n",
       "    <tr>\n",
       "      <th>CohortDay</th>\n",
       "      <th></th>\n",
       "      <th></th>\n",
       "      <th></th>\n",
       "      <th></th>\n",
       "      <th></th>\n",
       "      <th></th>\n",
       "      <th></th>\n",
       "      <th></th>\n",
       "      <th></th>\n",
       "      <th></th>\n",
       "      <th></th>\n",
       "      <th></th>\n",
       "      <th></th>\n",
       "      <th></th>\n",
       "      <th></th>\n",
       "      <th></th>\n",
       "      <th></th>\n",
       "      <th></th>\n",
       "      <th></th>\n",
       "      <th></th>\n",
       "      <th></th>\n",
       "    </tr>\n",
       "  </thead>\n",
       "  <tbody>\n",
       "    <tr>\n",
       "      <th>2010-12-01</th>\n",
       "      <td>3.170843</td>\n",
       "      <td>3.923231</td>\n",
       "      <td>3.988235</td>\n",
       "      <td>NaN</td>\n",
       "      <td>2.809098</td>\n",
       "      <td>3.490497</td>\n",
       "      <td>3.444846</td>\n",
       "      <td>2.490583</td>\n",
       "      <td>3.929679</td>\n",
       "      <td>2.894496</td>\n",
       "      <td>...</td>\n",
       "      <td>3.461569</td>\n",
       "      <td>3.153455</td>\n",
       "      <td>3.285797</td>\n",
       "      <td>NaN</td>\n",
       "      <td>1.900390</td>\n",
       "      <td>1.872989</td>\n",
       "      <td>2.259188</td>\n",
       "      <td>3.407155</td>\n",
       "      <td>2.872507</td>\n",
       "      <td>2.743047</td>\n",
       "    </tr>\n",
       "    <tr>\n",
       "      <th>2010-12-02</th>\n",
       "      <td>3.142678</td>\n",
       "      <td>0.990000</td>\n",
       "      <td>NaN</td>\n",
       "      <td>NaN</td>\n",
       "      <td>2.689773</td>\n",
       "      <td>2.402099</td>\n",
       "      <td>3.189143</td>\n",
       "      <td>4.147600</td>\n",
       "      <td>2.790888</td>\n",
       "      <td>NaN</td>\n",
       "      <td>...</td>\n",
       "      <td>3.859273</td>\n",
       "      <td>2.654773</td>\n",
       "      <td>NaN</td>\n",
       "      <td>NaN</td>\n",
       "      <td>2.590000</td>\n",
       "      <td>3.657500</td>\n",
       "      <td>4.596160</td>\n",
       "      <td>3.168571</td>\n",
       "      <td>2.227778</td>\n",
       "      <td>NaN</td>\n",
       "    </tr>\n",
       "    <tr>\n",
       "      <th>2010-12-03</th>\n",
       "      <td>3.265201</td>\n",
       "      <td>NaN</td>\n",
       "      <td>2.761739</td>\n",
       "      <td>2.726111</td>\n",
       "      <td>9.950000</td>\n",
       "      <td>4.175000</td>\n",
       "      <td>3.463889</td>\n",
       "      <td>NaN</td>\n",
       "      <td>NaN</td>\n",
       "      <td>11.850000</td>\n",
       "      <td>...</td>\n",
       "      <td>2.734000</td>\n",
       "      <td>NaN</td>\n",
       "      <td>2.065385</td>\n",
       "      <td>2.140099</td>\n",
       "      <td>2.668941</td>\n",
       "      <td>2.433333</td>\n",
       "      <td>3.824516</td>\n",
       "      <td>NaN</td>\n",
       "      <td>NaN</td>\n",
       "      <td>NaN</td>\n",
       "    </tr>\n",
       "    <tr>\n",
       "      <th>2010-12-05</th>\n",
       "      <td>2.912395</td>\n",
       "      <td>4.516552</td>\n",
       "      <td>4.417538</td>\n",
       "      <td>10.941667</td>\n",
       "      <td>3.294478</td>\n",
       "      <td>2.712121</td>\n",
       "      <td>NaN</td>\n",
       "      <td>2.536276</td>\n",
       "      <td>2.833077</td>\n",
       "      <td>3.827273</td>\n",
       "      <td>...</td>\n",
       "      <td>2.959121</td>\n",
       "      <td>2.582329</td>\n",
       "      <td>2.997474</td>\n",
       "      <td>2.997719</td>\n",
       "      <td>4.725882</td>\n",
       "      <td>0.978421</td>\n",
       "      <td>NaN</td>\n",
       "      <td>NaN</td>\n",
       "      <td>NaN</td>\n",
       "      <td>NaN</td>\n",
       "    </tr>\n",
       "    <tr>\n",
       "      <th>2010-12-06</th>\n",
       "      <td>2.921867</td>\n",
       "      <td>6.783333</td>\n",
       "      <td>1.767500</td>\n",
       "      <td>2.881845</td>\n",
       "      <td>4.581034</td>\n",
       "      <td>NaN</td>\n",
       "      <td>2.926216</td>\n",
       "      <td>3.226176</td>\n",
       "      <td>3.095167</td>\n",
       "      <td>3.354824</td>\n",
       "      <td>...</td>\n",
       "      <td>2.691772</td>\n",
       "      <td>1.823774</td>\n",
       "      <td>2.341687</td>\n",
       "      <td>4.650800</td>\n",
       "      <td>7.666667</td>\n",
       "      <td>NaN</td>\n",
       "      <td>NaN</td>\n",
       "      <td>NaN</td>\n",
       "      <td>NaN</td>\n",
       "      <td>NaN</td>\n",
       "    </tr>\n",
       "  </tbody>\n",
       "</table>\n",
       "<p>5 rows × 374 columns</p>\n",
       "</div>"
      ],
      "text/plain": [
       "CohortIndex     1.0       2.0       3.0        4.0       5.0       6.0    \\\n",
       "CohortDay                                                                  \n",
       "2010-12-01   3.170843  3.923231  3.988235        NaN  2.809098  3.490497   \n",
       "2010-12-02   3.142678  0.990000       NaN        NaN  2.689773  2.402099   \n",
       "2010-12-03   3.265201       NaN  2.761739   2.726111  9.950000  4.175000   \n",
       "2010-12-05   2.912395  4.516552  4.417538  10.941667  3.294478  2.712121   \n",
       "2010-12-06   2.921867  6.783333  1.767500   2.881845  4.581034       NaN   \n",
       "\n",
       "CohortIndex     7.0       8.0       9.0        10.0     ...        365.0  \\\n",
       "CohortDay                                               ...                \n",
       "2010-12-01   3.444846  2.490583  3.929679   2.894496    ...     3.461569   \n",
       "2010-12-02   3.189143  4.147600  2.790888        NaN    ...     3.859273   \n",
       "2010-12-03   3.463889       NaN       NaN  11.850000    ...     2.734000   \n",
       "2010-12-05        NaN  2.536276  2.833077   3.827273    ...     2.959121   \n",
       "2010-12-06   2.926216  3.226176  3.095167   3.354824    ...     2.691772   \n",
       "\n",
       "CohortIndex     366.0     367.0     368.0     369.0     370.0     371.0  \\\n",
       "CohortDay                                                                 \n",
       "2010-12-01   3.153455  3.285797       NaN  1.900390  1.872989  2.259188   \n",
       "2010-12-02   2.654773       NaN       NaN  2.590000  3.657500  4.596160   \n",
       "2010-12-03        NaN  2.065385  2.140099  2.668941  2.433333  3.824516   \n",
       "2010-12-05   2.582329  2.997474  2.997719  4.725882  0.978421       NaN   \n",
       "2010-12-06   1.823774  2.341687  4.650800  7.666667       NaN       NaN   \n",
       "\n",
       "CohortIndex     372.0     373.0     374.0  \n",
       "CohortDay                                  \n",
       "2010-12-01   3.407155  2.872507  2.743047  \n",
       "2010-12-02   3.168571  2.227778       NaN  \n",
       "2010-12-03        NaN       NaN       NaN  \n",
       "2010-12-05        NaN       NaN       NaN  \n",
       "2010-12-06        NaN       NaN       NaN  \n",
       "\n",
       "[5 rows x 374 columns]"
      ]
     },
     "execution_count": 14,
     "metadata": {},
     "output_type": "execute_result"
    }
   ],
   "source": [
    "average_quantity.head()"
   ]
  },
  {
   "cell_type": "code",
   "execution_count": 15,
   "metadata": {},
   "outputs": [
    {
     "name": "stdout",
     "output_type": "stream",
     "text": [
      "Solving environment: done\n",
      "\n",
      "## Package Plan ##\n",
      "\n",
      "  environment location: /home/jupyterlab/conda\n",
      "\n",
      "  added / updated specs: \n",
      "    - seaborn\n",
      "\n",
      "\n",
      "The following packages will be downloaded:\n",
      "\n",
      "    package                    |            build\n",
      "    ---------------------------|-----------------\n",
      "    statsmodels-0.9.0          |   py36h7eb728f_0        15.5 MB  conda-forge\n",
      "    patsy-0.5.1                |             py_0         187 KB  conda-forge\n",
      "    pandas-0.23.4              |   py36hf8a1672_0        27.8 MB  conda-forge\n",
      "    seaborn-0.9.0              |             py_0         159 KB  conda-forge\n",
      "    ------------------------------------------------------------\n",
      "                                           Total:        43.6 MB\n",
      "\n",
      "The following packages will be UPDATED:\n",
      "\n",
      "    pandas:      0.23.4-py37h04863e7_0 --> 0.23.4-py36hf8a1672_0 conda-forge\n",
      "    patsy:       0.5.0-py37_0          --> 0.5.1-py_0            conda-forge\n",
      "    seaborn:     0.9.0-py37_0          --> 0.9.0-py_0            conda-forge\n",
      "    statsmodels: 0.9.0-py37h035aef0_0  --> 0.9.0-py36h7eb728f_0  conda-forge\n",
      "\n",
      "\n",
      "Downloading and Extracting Packages\n",
      "statsmodels-0.9.0    | 15.5 MB   | ##################################### | 100% \n",
      "patsy-0.5.1          | 187 KB    | ##################################### | 100% \n",
      "pandas-0.23.4        | 27.8 MB   | ##################################### | 100% \n",
      "seaborn-0.9.0        | 159 KB    | ##################################### | 100% \n",
      "Preparing transaction: done\n",
      "Verifying transaction: done\n",
      "Executing transaction: done\n"
     ]
    }
   ],
   "source": [
    "!conda install -c conda-forge seaborn --yes"
   ]
  },
  {
   "cell_type": "code",
   "execution_count": 16,
   "metadata": {},
   "outputs": [],
   "source": [
    "import datetime"
   ]
  },
  {
   "cell_type": "code",
   "execution_count": 17,
   "metadata": {},
   "outputs": [],
   "source": [
    "snapshot_date = max(online.InvoiceDate) + datetime.timedelta(days=1) #Taking the last Invcoie date of the dataset"
   ]
  },
  {
   "cell_type": "code",
   "execution_count": 18,
   "metadata": {},
   "outputs": [],
   "source": [
    "datamart = online.groupby(['CustomerID']).agg({'InvoiceDate': lambda x: (snapshot_date - x.max()).days, 'InvoiceNo':'count'})"
   ]
  },
  {
   "cell_type": "code",
   "execution_count": 19,
   "metadata": {},
   "outputs": [
    {
     "data": {
      "text/html": [
       "<div>\n",
       "<style scoped>\n",
       "    .dataframe tbody tr th:only-of-type {\n",
       "        vertical-align: middle;\n",
       "    }\n",
       "\n",
       "    .dataframe tbody tr th {\n",
       "        vertical-align: top;\n",
       "    }\n",
       "\n",
       "    .dataframe thead th {\n",
       "        text-align: right;\n",
       "    }\n",
       "</style>\n",
       "<table border=\"1\" class=\"dataframe\">\n",
       "  <thead>\n",
       "    <tr style=\"text-align: right;\">\n",
       "      <th></th>\n",
       "      <th>InvoiceDate</th>\n",
       "      <th>InvoiceNo</th>\n",
       "    </tr>\n",
       "    <tr>\n",
       "      <th>CustomerID</th>\n",
       "      <th></th>\n",
       "      <th></th>\n",
       "    </tr>\n",
       "  </thead>\n",
       "  <tbody>\n",
       "    <tr>\n",
       "      <th>12346.0</th>\n",
       "      <td>326</td>\n",
       "      <td>2</td>\n",
       "    </tr>\n",
       "    <tr>\n",
       "      <th>12347.0</th>\n",
       "      <td>2</td>\n",
       "      <td>182</td>\n",
       "    </tr>\n",
       "    <tr>\n",
       "      <th>12348.0</th>\n",
       "      <td>75</td>\n",
       "      <td>31</td>\n",
       "    </tr>\n",
       "    <tr>\n",
       "      <th>12349.0</th>\n",
       "      <td>19</td>\n",
       "      <td>73</td>\n",
       "    </tr>\n",
       "    <tr>\n",
       "      <th>12350.0</th>\n",
       "      <td>310</td>\n",
       "      <td>17</td>\n",
       "    </tr>\n",
       "  </tbody>\n",
       "</table>\n",
       "</div>"
      ],
      "text/plain": [
       "            InvoiceDate  InvoiceNo\n",
       "CustomerID                        \n",
       "12346.0             326          2\n",
       "12347.0               2        182\n",
       "12348.0              75         31\n",
       "12349.0              19         73\n",
       "12350.0             310         17"
      ]
     },
     "execution_count": 19,
     "metadata": {},
     "output_type": "execute_result"
    }
   ],
   "source": [
    "datamart.head()"
   ]
  },
  {
   "cell_type": "markdown",
   "metadata": {},
   "source": [
    "This transformed InvoiceDate will be the Recent Date of Purchase and the No. of Invoices will be the Frequency of Purchase"
   ]
  },
  {
   "cell_type": "code",
   "execution_count": 20,
   "metadata": {},
   "outputs": [],
   "source": [
    "datamart.rename(columns={'InvoiceDate': 'Recent', 'InvoiceNo': 'Frequency'}, inplace=True)"
   ]
  },
  {
   "cell_type": "code",
   "execution_count": 21,
   "metadata": {},
   "outputs": [
    {
     "data": {
      "text/html": [
       "<div>\n",
       "<style scoped>\n",
       "    .dataframe tbody tr th:only-of-type {\n",
       "        vertical-align: middle;\n",
       "    }\n",
       "\n",
       "    .dataframe tbody tr th {\n",
       "        vertical-align: top;\n",
       "    }\n",
       "\n",
       "    .dataframe thead th {\n",
       "        text-align: right;\n",
       "    }\n",
       "</style>\n",
       "<table border=\"1\" class=\"dataframe\">\n",
       "  <thead>\n",
       "    <tr style=\"text-align: right;\">\n",
       "      <th></th>\n",
       "      <th>Recent</th>\n",
       "      <th>Frequency</th>\n",
       "    </tr>\n",
       "    <tr>\n",
       "      <th>CustomerID</th>\n",
       "      <th></th>\n",
       "      <th></th>\n",
       "    </tr>\n",
       "  </thead>\n",
       "  <tbody>\n",
       "    <tr>\n",
       "      <th>12346.0</th>\n",
       "      <td>326</td>\n",
       "      <td>2</td>\n",
       "    </tr>\n",
       "    <tr>\n",
       "      <th>12347.0</th>\n",
       "      <td>2</td>\n",
       "      <td>182</td>\n",
       "    </tr>\n",
       "    <tr>\n",
       "      <th>12348.0</th>\n",
       "      <td>75</td>\n",
       "      <td>31</td>\n",
       "    </tr>\n",
       "    <tr>\n",
       "      <th>12349.0</th>\n",
       "      <td>19</td>\n",
       "      <td>73</td>\n",
       "    </tr>\n",
       "    <tr>\n",
       "      <th>12350.0</th>\n",
       "      <td>310</td>\n",
       "      <td>17</td>\n",
       "    </tr>\n",
       "  </tbody>\n",
       "</table>\n",
       "</div>"
      ],
      "text/plain": [
       "            Recent  Frequency\n",
       "CustomerID                   \n",
       "12346.0        326          2\n",
       "12347.0          2        182\n",
       "12348.0         75         31\n",
       "12349.0         19         73\n",
       "12350.0        310         17"
      ]
     },
     "execution_count": 21,
     "metadata": {},
     "output_type": "execute_result"
    }
   ],
   "source": [
    "datamart.head()"
   ]
  },
  {
   "cell_type": "code",
   "execution_count": 22,
   "metadata": {},
   "outputs": [],
   "source": [
    "r_labels = range(5,0,-1)\n",
    "f_labels = range(1,6)\n",
    "r_gr = pd.qcut(datamart['Recent'], q=5, labels=r_labels)\n",
    "f_gr= pd.qcut(datamart['Frequency'], q=5, labels=f_labels)"
   ]
  },
  {
   "cell_type": "code",
   "execution_count": 23,
   "metadata": {},
   "outputs": [],
   "source": [
    "datamart=datamart.assign(R=r_gr, F=f_gr)\n",
    "#datamart.head()\n",
    "datamart['RF_SC'] = 0\n",
    "datamart['RF_SC'] = datamart[['R','F']].sum(axis=1)\n"
   ]
  },
  {
   "cell_type": "code",
   "execution_count": 24,
   "metadata": {},
   "outputs": [
    {
     "data": {
      "text/html": [
       "<div>\n",
       "<style scoped>\n",
       "    .dataframe tbody tr th:only-of-type {\n",
       "        vertical-align: middle;\n",
       "    }\n",
       "\n",
       "    .dataframe tbody tr th {\n",
       "        vertical-align: top;\n",
       "    }\n",
       "\n",
       "    .dataframe thead th {\n",
       "        text-align: right;\n",
       "    }\n",
       "</style>\n",
       "<table border=\"1\" class=\"dataframe\">\n",
       "  <thead>\n",
       "    <tr style=\"text-align: right;\">\n",
       "      <th></th>\n",
       "      <th>Recent</th>\n",
       "      <th>Frequency</th>\n",
       "      <th>R</th>\n",
       "      <th>F</th>\n",
       "      <th>RF_SC</th>\n",
       "    </tr>\n",
       "    <tr>\n",
       "      <th>CustomerID</th>\n",
       "      <th></th>\n",
       "      <th></th>\n",
       "      <th></th>\n",
       "      <th></th>\n",
       "      <th></th>\n",
       "    </tr>\n",
       "  </thead>\n",
       "  <tbody>\n",
       "    <tr>\n",
       "      <th>12346.0</th>\n",
       "      <td>326</td>\n",
       "      <td>2</td>\n",
       "      <td>1</td>\n",
       "      <td>1</td>\n",
       "      <td>2.0</td>\n",
       "    </tr>\n",
       "    <tr>\n",
       "      <th>12347.0</th>\n",
       "      <td>2</td>\n",
       "      <td>182</td>\n",
       "      <td>5</td>\n",
       "      <td>5</td>\n",
       "      <td>10.0</td>\n",
       "    </tr>\n",
       "    <tr>\n",
       "      <th>12348.0</th>\n",
       "      <td>75</td>\n",
       "      <td>31</td>\n",
       "      <td>2</td>\n",
       "      <td>3</td>\n",
       "      <td>5.0</td>\n",
       "    </tr>\n",
       "    <tr>\n",
       "      <th>12349.0</th>\n",
       "      <td>19</td>\n",
       "      <td>73</td>\n",
       "      <td>4</td>\n",
       "      <td>4</td>\n",
       "      <td>8.0</td>\n",
       "    </tr>\n",
       "    <tr>\n",
       "      <th>12350.0</th>\n",
       "      <td>310</td>\n",
       "      <td>17</td>\n",
       "      <td>1</td>\n",
       "      <td>2</td>\n",
       "      <td>3.0</td>\n",
       "    </tr>\n",
       "  </tbody>\n",
       "</table>\n",
       "</div>"
      ],
      "text/plain": [
       "            Recent  Frequency  R  F  RF_SC\n",
       "CustomerID                                \n",
       "12346.0        326          2  1  1    2.0\n",
       "12347.0          2        182  5  5   10.0\n",
       "12348.0         75         31  2  3    5.0\n",
       "12349.0         19         73  4  4    8.0\n",
       "12350.0        310         17  1  2    3.0"
      ]
     },
     "execution_count": 24,
     "metadata": {},
     "output_type": "execute_result"
    }
   ],
   "source": [
    "datamart.head()"
   ]
  },
  {
   "cell_type": "code",
   "execution_count": 25,
   "metadata": {},
   "outputs": [],
   "source": [
    "def Level_rf(df): # A function to define labels for customers based on RF_SC\n",
    "    if df['RF_SC'] >= 8:\n",
    "        return 'Top'\n",
    "    elif df['RF_SC']>=4:\n",
    "        return 'Mid'\n",
    "    else:\n",
    "        return 'Low'"
   ]
  },
  {
   "cell_type": "code",
   "execution_count": 26,
   "metadata": {},
   "outputs": [],
   "source": [
    "datamart['RF_Seg']= datamart.apply(Level_rf, axis=1)"
   ]
  },
  {
   "cell_type": "code",
   "execution_count": 27,
   "metadata": {},
   "outputs": [
    {
     "data": {
      "text/html": [
       "<div>\n",
       "<style scoped>\n",
       "    .dataframe tbody tr th:only-of-type {\n",
       "        vertical-align: middle;\n",
       "    }\n",
       "\n",
       "    .dataframe tbody tr th {\n",
       "        vertical-align: top;\n",
       "    }\n",
       "\n",
       "    .dataframe thead th {\n",
       "        text-align: right;\n",
       "    }\n",
       "</style>\n",
       "<table border=\"1\" class=\"dataframe\">\n",
       "  <thead>\n",
       "    <tr style=\"text-align: right;\">\n",
       "      <th></th>\n",
       "      <th>Recent</th>\n",
       "      <th>Frequency</th>\n",
       "      <th>R</th>\n",
       "      <th>F</th>\n",
       "      <th>RF_SC</th>\n",
       "      <th>RF_Seg</th>\n",
       "    </tr>\n",
       "    <tr>\n",
       "      <th>CustomerID</th>\n",
       "      <th></th>\n",
       "      <th></th>\n",
       "      <th></th>\n",
       "      <th></th>\n",
       "      <th></th>\n",
       "      <th></th>\n",
       "    </tr>\n",
       "  </thead>\n",
       "  <tbody>\n",
       "    <tr>\n",
       "      <th>12346.0</th>\n",
       "      <td>326</td>\n",
       "      <td>2</td>\n",
       "      <td>1</td>\n",
       "      <td>1</td>\n",
       "      <td>2.0</td>\n",
       "      <td>Low</td>\n",
       "    </tr>\n",
       "    <tr>\n",
       "      <th>12347.0</th>\n",
       "      <td>2</td>\n",
       "      <td>182</td>\n",
       "      <td>5</td>\n",
       "      <td>5</td>\n",
       "      <td>10.0</td>\n",
       "      <td>Top</td>\n",
       "    </tr>\n",
       "    <tr>\n",
       "      <th>12348.0</th>\n",
       "      <td>75</td>\n",
       "      <td>31</td>\n",
       "      <td>2</td>\n",
       "      <td>3</td>\n",
       "      <td>5.0</td>\n",
       "      <td>Mid</td>\n",
       "    </tr>\n",
       "    <tr>\n",
       "      <th>12349.0</th>\n",
       "      <td>19</td>\n",
       "      <td>73</td>\n",
       "      <td>4</td>\n",
       "      <td>4</td>\n",
       "      <td>8.0</td>\n",
       "      <td>Top</td>\n",
       "    </tr>\n",
       "    <tr>\n",
       "      <th>12350.0</th>\n",
       "      <td>310</td>\n",
       "      <td>17</td>\n",
       "      <td>1</td>\n",
       "      <td>2</td>\n",
       "      <td>3.0</td>\n",
       "      <td>Low</td>\n",
       "    </tr>\n",
       "  </tbody>\n",
       "</table>\n",
       "</div>"
      ],
      "text/plain": [
       "            Recent  Frequency  R  F  RF_SC RF_Seg\n",
       "CustomerID                                       \n",
       "12346.0        326          2  1  1    2.0    Low\n",
       "12347.0          2        182  5  5   10.0    Top\n",
       "12348.0         75         31  2  3    5.0    Mid\n",
       "12349.0         19         73  4  4    8.0    Top\n",
       "12350.0        310         17  1  2    3.0    Low"
      ]
     },
     "execution_count": 27,
     "metadata": {},
     "output_type": "execute_result"
    }
   ],
   "source": [
    "datamart.head()"
   ]
  },
  {
   "cell_type": "code",
   "execution_count": 28,
   "metadata": {},
   "outputs": [],
   "source": [
    "datamart['R'] = pd.to_numeric(datamart['R'])\n",
    "datamart['F'] = pd.to_numeric(datamart['F'])"
   ]
  },
  {
   "cell_type": "code",
   "execution_count": 29,
   "metadata": {},
   "outputs": [],
   "source": [
    "rf_agg = datamart.groupby(['RF_Seg']).agg({'R':'mean', 'F':['mean','count']})"
   ]
  },
  {
   "cell_type": "code",
   "execution_count": 30,
   "metadata": {},
   "outputs": [
    {
     "data": {
      "text/html": [
       "<div>\n",
       "<style scoped>\n",
       "    .dataframe tbody tr th:only-of-type {\n",
       "        vertical-align: middle;\n",
       "    }\n",
       "\n",
       "    .dataframe tbody tr th {\n",
       "        vertical-align: top;\n",
       "    }\n",
       "\n",
       "    .dataframe thead tr th {\n",
       "        text-align: left;\n",
       "    }\n",
       "\n",
       "    .dataframe thead tr:last-of-type th {\n",
       "        text-align: right;\n",
       "    }\n",
       "</style>\n",
       "<table border=\"1\" class=\"dataframe\">\n",
       "  <thead>\n",
       "    <tr>\n",
       "      <th></th>\n",
       "      <th>R</th>\n",
       "      <th colspan=\"2\" halign=\"left\">F</th>\n",
       "    </tr>\n",
       "    <tr>\n",
       "      <th></th>\n",
       "      <th>mean</th>\n",
       "      <th>mean</th>\n",
       "      <th>count</th>\n",
       "    </tr>\n",
       "    <tr>\n",
       "      <th>RF_Seg</th>\n",
       "      <th></th>\n",
       "      <th></th>\n",
       "      <th></th>\n",
       "    </tr>\n",
       "  </thead>\n",
       "  <tbody>\n",
       "    <tr>\n",
       "      <th>Low</th>\n",
       "      <td>1.255760</td>\n",
       "      <td>1.298387</td>\n",
       "      <td>868</td>\n",
       "    </tr>\n",
       "    <tr>\n",
       "      <th>Mid</th>\n",
       "      <td>2.800472</td>\n",
       "      <td>2.707075</td>\n",
       "      <td>2120</td>\n",
       "    </tr>\n",
       "    <tr>\n",
       "      <th>Top</th>\n",
       "      <td>4.432803</td>\n",
       "      <td>4.468208</td>\n",
       "      <td>1384</td>\n",
       "    </tr>\n",
       "  </tbody>\n",
       "</table>\n",
       "</div>"
      ],
      "text/plain": [
       "               R         F      \n",
       "            mean      mean count\n",
       "RF_Seg                          \n",
       "Low     1.255760  1.298387   868\n",
       "Mid     2.800472  2.707075  2120\n",
       "Top     4.432803  4.468208  1384"
      ]
     },
     "execution_count": 30,
     "metadata": {},
     "output_type": "execute_result"
    }
   ],
   "source": [
    "rf_agg"
   ]
  },
  {
   "cell_type": "code",
   "execution_count": 31,
   "metadata": {},
   "outputs": [],
   "source": [
    "import numpy as np\n",
    "import seaborn as sns\n",
    "import matplotlib.pyplot as plt"
   ]
  },
  {
   "cell_type": "code",
   "execution_count": 32,
   "metadata": {},
   "outputs": [],
   "source": [
    "datamart_rf=  datamart.loc[:,['Recent', 'Frequency']] "
   ]
  },
  {
   "cell_type": "code",
   "execution_count": 34,
   "metadata": {},
   "outputs": [
    {
     "data": {
      "image/png": "[encoded data removed]",
      "text/plain": [
       "<Figure size 360x360 with 2 Axes>"
      ]
     },
     "metadata": {
      "needs_background": "light"
     },
     "output_type": "display_data"
    }
   ],
   "source": [
    "plt.figure(figsize=(5,5))\n",
    "plt.subplot(2,1,1); sns.distplot(datamart_rf['Recent'])\n",
    "plt.subplot(2,1,2); sns.distplot(datamart_rf['Frequency'])\n",
    "plt.show()"
   ]
  },
  {
   "cell_type": "markdown",
   "metadata": {},
   "source": [
    "Here, the variables _Recent_ and _Frequency_ are highly skewed. So to unskew them, I am applying log-transformation and then Standard Scaling"
   ]
  },
  {
   "cell_type": "code",
   "execution_count": 35,
   "metadata": {},
   "outputs": [],
   "source": [
    "datamart_log = np.log(datamart_rf)"
   ]
  },
  {
   "cell_type": "code",
   "execution_count": 36,
   "metadata": {},
   "outputs": [],
   "source": [
    "from sklearn.preprocessing import StandardScaler"
   ]
  },
  {
   "cell_type": "code",
   "execution_count": 37,
   "metadata": {},
   "outputs": [],
   "source": [
    "scale = StandardScaler()\n",
    "scale.fit(datamart_log)\n",
    "datamart_scaled = scale.transform(datamart_log)"
   ]
  },
  {
   "cell_type": "code",
   "execution_count": 38,
   "metadata": {},
   "outputs": [],
   "source": [
    "datamart_scaled = pd.DataFrame(data=datamart_scaled, columns=['Recent', 'Frequency'])"
   ]
  },
  {
   "cell_type": "code",
   "execution_count": 39,
   "metadata": {},
   "outputs": [
    {
     "data": {
      "text/html": [
       "<div>\n",
       "<style scoped>\n",
       "    .dataframe tbody tr th:only-of-type {\n",
       "        vertical-align: middle;\n",
       "    }\n",
       "\n",
       "    .dataframe tbody tr th {\n",
       "        vertical-align: top;\n",
       "    }\n",
       "\n",
       "    .dataframe thead th {\n",
       "        text-align: right;\n",
       "    }\n",
       "</style>\n",
       "<table border=\"1\" class=\"dataframe\">\n",
       "  <thead>\n",
       "    <tr style=\"text-align: right;\">\n",
       "      <th></th>\n",
       "      <th>Recent</th>\n",
       "      <th>Frequency</th>\n",
       "    </tr>\n",
       "  </thead>\n",
       "  <tbody>\n",
       "    <tr>\n",
       "      <th>0</th>\n",
       "      <td>1.402917</td>\n",
       "      <td>-2.230272</td>\n",
       "    </tr>\n",
       "    <tr>\n",
       "      <th>1</th>\n",
       "      <td>-2.075135</td>\n",
       "      <td>1.133419</td>\n",
       "    </tr>\n",
       "    <tr>\n",
       "      <th>2</th>\n",
       "      <td>0.399593</td>\n",
       "      <td>-0.186462</td>\n",
       "    </tr>\n",
       "    <tr>\n",
       "      <th>3</th>\n",
       "      <td>-0.537936</td>\n",
       "      <td>0.452198</td>\n",
       "    </tr>\n",
       "    <tr>\n",
       "      <th>4</th>\n",
       "      <td>1.368554</td>\n",
       "      <td>-0.634452</td>\n",
       "    </tr>\n",
       "  </tbody>\n",
       "</table>\n",
       "</div>"
      ],
      "text/plain": [
       "     Recent  Frequency\n",
       "0  1.402917  -2.230272\n",
       "1 -2.075135   1.133419\n",
       "2  0.399593  -0.186462\n",
       "3 -0.537936   0.452198\n",
       "4  1.368554  -0.634452"
      ]
     },
     "execution_count": 39,
     "metadata": {},
     "output_type": "execute_result"
    }
   ],
   "source": [
    "datamart_scaled.head()"
   ]
  },
  {
   "cell_type": "code",
   "execution_count": 41,
   "metadata": {},
   "outputs": [
    {
     "data": {
      "image/png": "[encoded data removed]",
      "text/plain": [
       "<Figure size 432x288 with 2 Axes>"
      ]
     },
     "metadata": {
      "needs_background": "light"
     },
     "output_type": "display_data"
    }
   ],
   "source": [
    "plt.subplot(2,1,1); sns.distplot(datamart_scaled['Recent'])\n",
    "plt.subplot(2,1,2); sns.distplot(datamart_scaled['Frequency'])\n",
    "plt.show()"
   ]
  },
  {
   "cell_type": "markdown",
   "metadata": {},
   "source": [
    "Now, the skewedness of the variables is highly reduced ( although it is not completely unskewed)"
   ]
  },
  {
   "cell_type": "code",
   "execution_count": 42,
   "metadata": {},
   "outputs": [],
   "source": [
    "from sklearn.cluster import KMeans  # A loop to find Sum of Squared Errors to get the best number of clusters\n",
    "sse={}\n",
    "for i in range(1,15) :\n",
    "    kmeans= KMeans(n_clusters=i, random_state=1)\n",
    "    kmeans.fit(datamart_scaled)\n",
    "    sse[i] = kmeans.inertia_"
   ]
  },
  {
   "cell_type": "code",
   "execution_count": 43,
   "metadata": {},
   "outputs": [],
   "source": [
    "sse_df = pd.DataFrame.from_dict(sse, orient='index', columns=['SSE'])"
   ]
  },
  {
   "cell_type": "code",
   "execution_count": 44,
   "metadata": {},
   "outputs": [
    {
     "data": {
      "text/html": [
       "<div>\n",
       "<style scoped>\n",
       "    .dataframe tbody tr th:only-of-type {\n",
       "        vertical-align: middle;\n",
       "    }\n",
       "\n",
       "    .dataframe tbody tr th {\n",
       "        vertical-align: top;\n",
       "    }\n",
       "\n",
       "    .dataframe thead th {\n",
       "        text-align: right;\n",
       "    }\n",
       "</style>\n",
       "<table border=\"1\" class=\"dataframe\">\n",
       "  <thead>\n",
       "    <tr style=\"text-align: right;\">\n",
       "      <th></th>\n",
       "      <th>index</th>\n",
       "      <th>SSE</th>\n",
       "    </tr>\n",
       "  </thead>\n",
       "  <tbody>\n",
       "    <tr>\n",
       "      <th>0</th>\n",
       "      <td>1</td>\n",
       "      <td>8744.000000</td>\n",
       "    </tr>\n",
       "    <tr>\n",
       "      <th>1</th>\n",
       "      <td>2</td>\n",
       "      <td>4423.588529</td>\n",
       "    </tr>\n",
       "    <tr>\n",
       "      <th>2</th>\n",
       "      <td>3</td>\n",
       "      <td>3251.825354</td>\n",
       "    </tr>\n",
       "    <tr>\n",
       "      <th>3</th>\n",
       "      <td>4</td>\n",
       "      <td>2601.156450</td>\n",
       "    </tr>\n",
       "    <tr>\n",
       "      <th>4</th>\n",
       "      <td>5</td>\n",
       "      <td>2042.079054</td>\n",
       "    </tr>\n",
       "  </tbody>\n",
       "</table>\n",
       "</div>"
      ],
      "text/plain": [
       "   index          SSE\n",
       "0      1  8744.000000\n",
       "1      2  4423.588529\n",
       "2      3  3251.825354\n",
       "3      4  2601.156450\n",
       "4      5  2042.079054"
      ]
     },
     "execution_count": 44,
     "metadata": {},
     "output_type": "execute_result"
    }
   ],
   "source": [
    "sse_df.reset_index(level=0, inplace=True)\n",
    "sse_df.head()"
   ]
  },
  {
   "cell_type": "code",
   "execution_count": 45,
   "metadata": {},
   "outputs": [],
   "source": [
    "sse_df = sse_df.rename(columns= {'index': \"K\", 'SSE':'SSE'})\n"
   ]
  },
  {
   "cell_type": "code",
   "execution_count": 46,
   "metadata": {},
   "outputs": [
    {
     "data": {
      "image/png": "[encoded data removed]",
      "text/plain": [
       "<Figure size 432x288 with 1 Axes>"
      ]
     },
     "metadata": {
      "needs_background": "light"
     },
     "output_type": "display_data"
    }
   ],
   "source": [
    "sns.pointplot(x='K', y='SSE', data=sse_df)\n",
    "plt.title(\"Elbow Plot for Sum of Squared Errors\")\n",
    "plt.show()"
   ]
  },
  {
   "cell_type": "markdown",
   "metadata": {},
   "source": [
    "In this _Elbow Plot_ the Elbow occurs at approximately 2 or 3. So, I am taking 3 clusters as the optimal number of clusters."
   ]
  },
  {
   "cell_type": "code",
   "execution_count": 47,
   "metadata": {},
   "outputs": [
    {
     "data": {
      "text/plain": [
       "KMeans(algorithm='auto', copy_x=True, init='k-means++', max_iter=300,\n",
       "    n_clusters=3, n_init=10, n_jobs=None, precompute_distances='auto',\n",
       "    random_state=1, tol=0.0001, verbose=0)"
      ]
     },
     "execution_count": 47,
     "metadata": {},
     "output_type": "execute_result"
    }
   ],
   "source": [
    "kmeans = KMeans(n_clusters=3, random_state=1)\n",
    "kmeans.fit(datamart_scaled)"
   ]
  },
  {
   "cell_type": "code",
   "execution_count": 48,
   "metadata": {},
   "outputs": [],
   "source": [
    "clust_lables = kmeans.labels_"
   ]
  },
  {
   "cell_type": "code",
   "execution_count": 49,
   "metadata": {},
   "outputs": [],
   "source": [
    "datamart_clust3 = datamart_rf.assign(Cluster=clust_lables) #Assigning the clusters to the CustomerID"
   ]
  },
  {
   "cell_type": "code",
   "execution_count": 50,
   "metadata": {},
   "outputs": [
    {
     "data": {
      "text/html": [
       "<div>\n",
       "<style scoped>\n",
       "    .dataframe tbody tr th:only-of-type {\n",
       "        vertical-align: middle;\n",
       "    }\n",
       "\n",
       "    .dataframe tbody tr th {\n",
       "        vertical-align: top;\n",
       "    }\n",
       "\n",
       "    .dataframe thead th {\n",
       "        text-align: right;\n",
       "    }\n",
       "</style>\n",
       "<table border=\"1\" class=\"dataframe\">\n",
       "  <thead>\n",
       "    <tr style=\"text-align: right;\">\n",
       "      <th></th>\n",
       "      <th>Recent</th>\n",
       "      <th>Frequency</th>\n",
       "      <th>Cluster</th>\n",
       "    </tr>\n",
       "    <tr>\n",
       "      <th>CustomerID</th>\n",
       "      <th></th>\n",
       "      <th></th>\n",
       "      <th></th>\n",
       "    </tr>\n",
       "  </thead>\n",
       "  <tbody>\n",
       "    <tr>\n",
       "      <th>12346.0</th>\n",
       "      <td>326</td>\n",
       "      <td>2</td>\n",
       "      <td>2</td>\n",
       "    </tr>\n",
       "    <tr>\n",
       "      <th>12347.0</th>\n",
       "      <td>2</td>\n",
       "      <td>182</td>\n",
       "      <td>0</td>\n",
       "    </tr>\n",
       "    <tr>\n",
       "      <th>12348.0</th>\n",
       "      <td>75</td>\n",
       "      <td>31</td>\n",
       "      <td>1</td>\n",
       "    </tr>\n",
       "    <tr>\n",
       "      <th>12349.0</th>\n",
       "      <td>19</td>\n",
       "      <td>73</td>\n",
       "      <td>1</td>\n",
       "    </tr>\n",
       "    <tr>\n",
       "      <th>12350.0</th>\n",
       "      <td>310</td>\n",
       "      <td>17</td>\n",
       "      <td>2</td>\n",
       "    </tr>\n",
       "  </tbody>\n",
       "</table>\n",
       "</div>"
      ],
      "text/plain": [
       "            Recent  Frequency  Cluster\n",
       "CustomerID                            \n",
       "12346.0        326          2        2\n",
       "12347.0          2        182        0\n",
       "12348.0         75         31        1\n",
       "12349.0         19         73        1\n",
       "12350.0        310         17        2"
      ]
     },
     "execution_count": 50,
     "metadata": {},
     "output_type": "execute_result"
    }
   ],
   "source": [
    "datamart_clust3.head()"
   ]
  },
  {
   "cell_type": "code",
   "execution_count": 51,
   "metadata": {},
   "outputs": [
    {
     "data": {
      "image/png": "[encoded data removed]",
      "text/plain": [
       "<Figure size 403.5x360 with 1 Axes>"
      ]
     },
     "metadata": {
      "needs_background": "light"
     },
     "output_type": "display_data"
    }
   ],
   "source": [
    "sns.catplot(x='Recent', y='Frequency', data=datamart_clust3, hue='Cluster', palette='Set1')\n",
    "plt.show()"
   ]
  },
  {
   "cell_type": "code",
   "execution_count": 52,
   "metadata": {},
   "outputs": [],
   "source": [
    "datamart[\"RF_Seg\"]= datamart['RF_Seg'].astype('category')"
   ]
  },
  {
   "cell_type": "code",
   "execution_count": 53,
   "metadata": {},
   "outputs": [
    {
     "data": {
      "image/png": "[encoded data removed]",
      "text/plain": [
       "<Figure size 415.625x360 with 1 Axes>"
      ]
     },
     "metadata": {
      "needs_background": "light"
     },
     "output_type": "display_data"
    }
   ],
   "source": [
    "sns.catplot(x='Recent', y='Frequency', data=datamart, hue='RF_Seg', palette =dict(Top=\"#9b59b6\", Mid=\"#3498db\", Low=\"#95a5a6\"))\n",
    "plt.show()"
   ]
  },
  {
   "cell_type": "markdown",
   "metadata": {},
   "source": [
    "Above, there are 2 scatterplots. \n",
    "1. The 1st one is obtained by clustering the customers using KMeans CLustering.\n",
    "2. The 2nd one is obtained by segmenting the customers based on their Cohort Analysis.\n",
    "\n",
    "A Business will always try to target customers or probable customers who are _Frequent_ Purchasers and/or _Recent_.\n",
    "From the above 2 Categorical Plots, what I  can infer is that-\n",
    "\n",
    " ~For the KMeans Clustering Plot, the region corresponding to the Red color should be the target audience who are interested in buying or are recent customers. The Red Region corresponds to the Customers who are Recent and/or Frequent.\n",
    " \n",
    " ~For the Segmentation plot, the region corresponding to the Purple color should be the target audience corresponding to 'Top'.\n"
   ]
  },
  {
   "cell_type": "markdown",
   "metadata": {},
   "source": [
    "The **Target Region** in the Segmentation plot is greater, so it covers a greater number of people.\n",
    "So, I will be taking into consideration the 2nd plot and its corresponding Dataset.\n",
    "The Dataset for this plot is ***datamart***."
   ]
  },
  {
   "cell_type": "code",
   "execution_count": 54,
   "metadata": {},
   "outputs": [
    {
     "data": {
      "text/html": [
       "<div>\n",
       "<style scoped>\n",
       "    .dataframe tbody tr th:only-of-type {\n",
       "        vertical-align: middle;\n",
       "    }\n",
       "\n",
       "    .dataframe tbody tr th {\n",
       "        vertical-align: top;\n",
       "    }\n",
       "\n",
       "    .dataframe thead th {\n",
       "        text-align: right;\n",
       "    }\n",
       "</style>\n",
       "<table border=\"1\" class=\"dataframe\">\n",
       "  <thead>\n",
       "    <tr style=\"text-align: right;\">\n",
       "      <th></th>\n",
       "      <th>Recent</th>\n",
       "      <th>Frequency</th>\n",
       "      <th>R</th>\n",
       "      <th>F</th>\n",
       "      <th>RF_SC</th>\n",
       "      <th>RF_Seg</th>\n",
       "    </tr>\n",
       "    <tr>\n",
       "      <th>CustomerID</th>\n",
       "      <th></th>\n",
       "      <th></th>\n",
       "      <th></th>\n",
       "      <th></th>\n",
       "      <th></th>\n",
       "      <th></th>\n",
       "    </tr>\n",
       "  </thead>\n",
       "  <tbody>\n",
       "    <tr>\n",
       "      <th>12346.0</th>\n",
       "      <td>326</td>\n",
       "      <td>2</td>\n",
       "      <td>1</td>\n",
       "      <td>1</td>\n",
       "      <td>2.0</td>\n",
       "      <td>Low</td>\n",
       "    </tr>\n",
       "    <tr>\n",
       "      <th>12347.0</th>\n",
       "      <td>2</td>\n",
       "      <td>182</td>\n",
       "      <td>5</td>\n",
       "      <td>5</td>\n",
       "      <td>10.0</td>\n",
       "      <td>Top</td>\n",
       "    </tr>\n",
       "    <tr>\n",
       "      <th>12348.0</th>\n",
       "      <td>75</td>\n",
       "      <td>31</td>\n",
       "      <td>2</td>\n",
       "      <td>3</td>\n",
       "      <td>5.0</td>\n",
       "      <td>Mid</td>\n",
       "    </tr>\n",
       "    <tr>\n",
       "      <th>12349.0</th>\n",
       "      <td>19</td>\n",
       "      <td>73</td>\n",
       "      <td>4</td>\n",
       "      <td>4</td>\n",
       "      <td>8.0</td>\n",
       "      <td>Top</td>\n",
       "    </tr>\n",
       "    <tr>\n",
       "      <th>12350.0</th>\n",
       "      <td>310</td>\n",
       "      <td>17</td>\n",
       "      <td>1</td>\n",
       "      <td>2</td>\n",
       "      <td>3.0</td>\n",
       "      <td>Low</td>\n",
       "    </tr>\n",
       "  </tbody>\n",
       "</table>\n",
       "</div>"
      ],
      "text/plain": [
       "            Recent  Frequency  R  F  RF_SC RF_Seg\n",
       "CustomerID                                       \n",
       "12346.0        326          2  1  1    2.0    Low\n",
       "12347.0          2        182  5  5   10.0    Top\n",
       "12348.0         75         31  2  3    5.0    Mid\n",
       "12349.0         19         73  4  4    8.0    Top\n",
       "12350.0        310         17  1  2    3.0    Low"
      ]
     },
     "execution_count": 54,
     "metadata": {},
     "output_type": "execute_result"
    }
   ],
   "source": [
    "datamart.head()"
   ]
  },
  {
   "cell_type": "code",
   "execution_count": 55,
   "metadata": {},
   "outputs": [],
   "source": [
    "datamart2 = datamart[datamart['RF_Seg'] == 'Top']"
   ]
  },
  {
   "cell_type": "code",
   "execution_count": 56,
   "metadata": {},
   "outputs": [],
   "source": [
    "datamart2 = datamart2[datamart2['Frequency'] >=500] # For being very targetting towards the Most Frequent Customers"
   ]
  },
  {
   "cell_type": "code",
   "execution_count": 57,
   "metadata": {},
   "outputs": [],
   "source": [
    "Index = list(datamart2.index)"
   ]
  },
  {
   "cell_type": "markdown",
   "metadata": {},
   "source": [
    "Now, based on the CustomerID(index), I will fetch the data from the _online_ dataset"
   ]
  },
  {
   "cell_type": "code",
   "execution_count": 58,
   "metadata": {},
   "outputs": [],
   "source": [
    "online2 = online[online['CustomerID'].isin(Index)]"
   ]
  },
  {
   "cell_type": "code",
   "execution_count": 59,
   "metadata": {},
   "outputs": [
    {
     "data": {
      "text/html": [
       "<div>\n",
       "<style scoped>\n",
       "    .dataframe tbody tr th:only-of-type {\n",
       "        vertical-align: middle;\n",
       "    }\n",
       "\n",
       "    .dataframe tbody tr th {\n",
       "        vertical-align: top;\n",
       "    }\n",
       "\n",
       "    .dataframe thead th {\n",
       "        text-align: right;\n",
       "    }\n",
       "</style>\n",
       "<table border=\"1\" class=\"dataframe\">\n",
       "  <thead>\n",
       "    <tr style=\"text-align: right;\">\n",
       "      <th></th>\n",
       "      <th>InvoiceNo</th>\n",
       "      <th>StockCode</th>\n",
       "      <th>Description</th>\n",
       "      <th>Quantity</th>\n",
       "      <th>InvoiceDate</th>\n",
       "      <th>UnitPrice</th>\n",
       "      <th>CustomerID</th>\n",
       "      <th>Country</th>\n",
       "      <th>InvoiceDay</th>\n",
       "      <th>CohortDay</th>\n",
       "      <th>CohortIndex</th>\n",
       "    </tr>\n",
       "  </thead>\n",
       "  <tbody>\n",
       "    <tr>\n",
       "      <th>106</th>\n",
       "      <td>536381</td>\n",
       "      <td>22139</td>\n",
       "      <td>RETROSPOT TEA SET CERAMIC 11 PC</td>\n",
       "      <td>23</td>\n",
       "      <td>2010-12-01 09:41:00</td>\n",
       "      <td>4.25</td>\n",
       "      <td>15311.0</td>\n",
       "      <td>United Kingdom</td>\n",
       "      <td>2010-12-01</td>\n",
       "      <td>2010-12-01</td>\n",
       "      <td>1.0</td>\n",
       "    </tr>\n",
       "    <tr>\n",
       "      <th>107</th>\n",
       "      <td>536381</td>\n",
       "      <td>84854</td>\n",
       "      <td>GIRLY PINK TOOL SET</td>\n",
       "      <td>5</td>\n",
       "      <td>2010-12-01 09:41:00</td>\n",
       "      <td>4.95</td>\n",
       "      <td>15311.0</td>\n",
       "      <td>United Kingdom</td>\n",
       "      <td>2010-12-01</td>\n",
       "      <td>2010-12-01</td>\n",
       "      <td>1.0</td>\n",
       "    </tr>\n",
       "    <tr>\n",
       "      <th>108</th>\n",
       "      <td>536381</td>\n",
       "      <td>22411</td>\n",
       "      <td>JUMBO SHOPPER VINTAGE RED PAISLEY</td>\n",
       "      <td>10</td>\n",
       "      <td>2010-12-01 09:41:00</td>\n",
       "      <td>1.95</td>\n",
       "      <td>15311.0</td>\n",
       "      <td>United Kingdom</td>\n",
       "      <td>2010-12-01</td>\n",
       "      <td>2010-12-01</td>\n",
       "      <td>1.0</td>\n",
       "    </tr>\n",
       "    <tr>\n",
       "      <th>109</th>\n",
       "      <td>536381</td>\n",
       "      <td>82567</td>\n",
       "      <td>AIRLINE LOUNGE,METAL SIGN</td>\n",
       "      <td>2</td>\n",
       "      <td>2010-12-01 09:41:00</td>\n",
       "      <td>2.10</td>\n",
       "      <td>15311.0</td>\n",
       "      <td>United Kingdom</td>\n",
       "      <td>2010-12-01</td>\n",
       "      <td>2010-12-01</td>\n",
       "      <td>1.0</td>\n",
       "    </tr>\n",
       "    <tr>\n",
       "      <th>110</th>\n",
       "      <td>536381</td>\n",
       "      <td>21672</td>\n",
       "      <td>WHITE SPOT RED CERAMIC DRAWER KNOB</td>\n",
       "      <td>6</td>\n",
       "      <td>2010-12-01 09:41:00</td>\n",
       "      <td>1.25</td>\n",
       "      <td>15311.0</td>\n",
       "      <td>United Kingdom</td>\n",
       "      <td>2010-12-01</td>\n",
       "      <td>2010-12-01</td>\n",
       "      <td>1.0</td>\n",
       "    </tr>\n",
       "  </tbody>\n",
       "</table>\n",
       "</div>"
      ],
      "text/plain": [
       "    InvoiceNo StockCode                         Description  Quantity  \\\n",
       "106    536381     22139    RETROSPOT TEA SET CERAMIC 11 PC         23   \n",
       "107    536381     84854                 GIRLY PINK TOOL SET         5   \n",
       "108    536381     22411   JUMBO SHOPPER VINTAGE RED PAISLEY        10   \n",
       "109    536381     82567           AIRLINE LOUNGE,METAL SIGN         2   \n",
       "110    536381     21672  WHITE SPOT RED CERAMIC DRAWER KNOB         6   \n",
       "\n",
       "            InvoiceDate  UnitPrice  CustomerID         Country InvoiceDay  \\\n",
       "106 2010-12-01 09:41:00       4.25     15311.0  United Kingdom 2010-12-01   \n",
       "107 2010-12-01 09:41:00       4.95     15311.0  United Kingdom 2010-12-01   \n",
       "108 2010-12-01 09:41:00       1.95     15311.0  United Kingdom 2010-12-01   \n",
       "109 2010-12-01 09:41:00       2.10     15311.0  United Kingdom 2010-12-01   \n",
       "110 2010-12-01 09:41:00       1.25     15311.0  United Kingdom 2010-12-01   \n",
       "\n",
       "     CohortDay  CohortIndex  \n",
       "106 2010-12-01          1.0  \n",
       "107 2010-12-01          1.0  \n",
       "108 2010-12-01          1.0  \n",
       "109 2010-12-01          1.0  \n",
       "110 2010-12-01          1.0  "
      ]
     },
     "execution_count": 59,
     "metadata": {},
     "output_type": "execute_result"
    }
   ],
   "source": [
    "online2.head()"
   ]
  },
  {
   "cell_type": "markdown",
   "metadata": {},
   "source": [
    "Now, a dataset of only the 'Top' Customers is obtained."
   ]
  },
  {
   "cell_type": "code",
   "execution_count": 60,
   "metadata": {},
   "outputs": [],
   "source": [
    "Countries = online2['Country'].unique()"
   ]
  },
  {
   "cell_type": "code",
   "execution_count": 61,
   "metadata": {},
   "outputs": [
    {
     "data": {
      "text/plain": [
       "array(['United Kingdom', 'EIRE', 'Germany', 'France', 'Netherlands',\n",
       "       'Australia'], dtype=object)"
      ]
     },
     "execution_count": 61,
     "metadata": {},
     "output_type": "execute_result"
    }
   ],
   "source": [
    "Countries"
   ]
  },
  {
   "cell_type": "code",
   "execution_count": 62,
   "metadata": {},
   "outputs": [],
   "source": [
    "import requests"
   ]
  },
  {
   "cell_type": "code",
   "execution_count": 63,
   "metadata": {},
   "outputs": [],
   "source": [
    "from bs4 import BeautifulSoup"
   ]
  },
  {
   "cell_type": "code",
   "execution_count": 64,
   "metadata": {},
   "outputs": [],
   "source": [
    "Countries = list(Countries)\n",
    "Countries[0] = 'UK'\n",
    "Caps =[0,0,0,0,0,0]\n",
    "for i,c in enumerate(Countries):\n",
    "    url = 'https://restcountries.eu/rest/v2/name/{}?fullText=true'.format(c)\n",
    "    result = requests.get(url).text\n",
    "    soup = BeautifulSoup(result, 'lxml')\n",
    "    cap = soup.find('p')\n",
    "    Caps[i] = cap.text.split(',')[5].split(':')[1]\n",
    "       "
   ]
  },
  {
   "cell_type": "code",
   "execution_count": 65,
   "metadata": {},
   "outputs": [
    {
     "name": "stdout",
     "output_type": "stream",
     "text": [
      "Solving environment: done\n",
      "\n",
      "## Package Plan ##\n",
      "\n",
      "  environment location: /home/jupyterlab/conda\n",
      "\n",
      "  added / updated specs: \n",
      "    - geopy\n",
      "\n",
      "\n",
      "The following packages will be downloaded:\n",
      "\n",
      "    package                    |            build\n",
      "    ---------------------------|-----------------\n",
      "    geopy-1.17.0               |             py_0          49 KB  conda-forge\n",
      "    geographiclib-1.49         |             py_0          32 KB  conda-forge\n",
      "    ------------------------------------------------------------\n",
      "                                           Total:          82 KB\n",
      "\n",
      "The following NEW packages will be INSTALLED:\n",
      "\n",
      "    geographiclib: 1.49-py_0   conda-forge\n",
      "    geopy:         1.17.0-py_0 conda-forge\n",
      "\n",
      "\n",
      "Downloading and Extracting Packages\n",
      "geopy-1.17.0         | 49 KB     | ##################################### | 100% \n",
      "geographiclib-1.49   | 32 KB     | ##################################### | 100% \n",
      "Preparing transaction: done\n",
      "Verifying transaction: done\n",
      "Executing transaction: done\n"
     ]
    }
   ],
   "source": [
    "!conda install -c conda-forge geopy --yes"
   ]
  },
  {
   "cell_type": "code",
   "execution_count": 66,
   "metadata": {},
   "outputs": [],
   "source": [
    "from geopy.geocoders import Nominatim"
   ]
  },
  {
   "cell_type": "code",
   "execution_count": 67,
   "metadata": {},
   "outputs": [],
   "source": [
    "gl = Nominatim(user_agent=\"my-application\")\n",
    "Lat=[]\n",
    "Long=[]\n",
    "for c in Caps:\n",
    "    loc = gl.geocode(c)\n",
    "    Lat.append(loc.latitude)\n",
    "    Long.append(loc.longitude)"
   ]
  },
  {
   "cell_type": "markdown",
   "metadata": {},
   "source": [
    "Here, I have obtained the Latitudes and Longitudes of the Capitals of the Countries of Target Customers. Using this, I will try to search for trending venues near the Capitals of these Countries."
   ]
  },
  {
   "cell_type": "markdown",
   "metadata": {},
   "source": [
    "Here, I will use FourSquare API to fetch the trending venues near the capitals of the countries"
   ]
  },
  {
   "cell_type": "code",
   "execution_count": 92,
   "metadata": {},
   "outputs": [],
   "source": [
    "CLIENT_ID = 'KUN320FISBMCXXD1FSZSMHZDPPXBCR1LPTLL1J0DMFTRCPZN' \n",
    "CLIENT_SECRET = 'BC51R2HDZOOHHCVN0XDV0LKOVPV4SHYI1A4D51QC2F15G510' \n",
    "VERSION = '20181217'"
   ]
  },
  {
   "cell_type": "code",
   "execution_count": 103,
   "metadata": {},
   "outputs": [],
   "source": [
    "venues_list=[]\n",
    "count=0\n",
    "for cont, caps, lat, lng in zip(Countries,Caps, Lat, Long):\n",
    "    url= 'https://api.foursquare.com/v2/venues/trending?&client_id={}&client_secret={}&v={}&ll={},{}&radius={}&limit={}'.format(CLIENT_ID,CLIENT_SECRET,VERSION,lat,lng,50000000000000,100)\n",
    "    results = requests.get(url).json()[\"response\"]['venues']\n",
    "    venues_list.append([(\n",
    "            cont,caps, \n",
    "            lat, \n",
    "            lng, \n",
    "            v['name'],\n",
    "            v['location']['lat'], \n",
    "            v['location']['lng']) for v in results])\n",
    "        \n",
    "Trending = pd.DataFrame([item for venue_list in venues_list for item in venue_list])\n",
    "Trending.columns = ['Country', 'Capital', \n",
    "                  'Capital Latitude', \n",
    "                  'Capital Longitude', \n",
    "                  'Venue', \n",
    "                  'Venue Latitude', \n",
    "                  'Venue Longitude']"
   ]
  },
  {
   "cell_type": "code",
   "execution_count": 102,
   "metadata": {},
   "outputs": [
    {
     "data": {
      "text/html": [
       "<div>\n",
       "<style scoped>\n",
       "    .dataframe tbody tr th:only-of-type {\n",
       "        vertical-align: middle;\n",
       "    }\n",
       "\n",
       "    .dataframe tbody tr th {\n",
       "        vertical-align: top;\n",
       "    }\n",
       "\n",
       "    .dataframe thead th {\n",
       "        text-align: right;\n",
       "    }\n",
       "</style>\n",
       "<table border=\"1\" class=\"dataframe\">\n",
       "  <thead>\n",
       "    <tr style=\"text-align: right;\">\n",
       "      <th></th>\n",
       "      <th>Country</th>\n",
       "      <th>Capital</th>\n",
       "      <th>Capital Latitude</th>\n",
       "      <th>Capital Longitude</th>\n",
       "      <th>Venue</th>\n",
       "      <th>Venue Latitude</th>\n",
       "      <th>Venue Longitude</th>\n",
       "    </tr>\n",
       "  </thead>\n",
       "  <tbody>\n",
       "    <tr>\n",
       "      <th>0</th>\n",
       "      <td>UK</td>\n",
       "      <td>\"London\"</td>\n",
       "      <td>51.507322</td>\n",
       "      <td>-0.127647</td>\n",
       "      <td>London Heathrow Airport (LHR) (London Heathrow...</td>\n",
       "      <td>51.469408</td>\n",
       "      <td>-0.462348</td>\n",
       "    </tr>\n",
       "    <tr>\n",
       "      <th>1</th>\n",
       "      <td>Germany</td>\n",
       "      <td>\"Berlin\"</td>\n",
       "      <td>52.517037</td>\n",
       "      <td>13.388860</td>\n",
       "      <td>Flughafen Berlin-Tegel Otto Lilienthal (TXL) (...</td>\n",
       "      <td>52.554516</td>\n",
       "      <td>13.293071</td>\n",
       "    </tr>\n",
       "    <tr>\n",
       "      <th>2</th>\n",
       "      <td>France</td>\n",
       "      <td>\"Paris\"</td>\n",
       "      <td>48.856610</td>\n",
       "      <td>2.351499</td>\n",
       "      <td>Aéroport Paris-Charles de Gaulle (CDG) (Aéropo...</td>\n",
       "      <td>49.006053</td>\n",
       "      <td>2.572303</td>\n",
       "    </tr>\n",
       "    <tr>\n",
       "      <th>3</th>\n",
       "      <td>Netherlands</td>\n",
       "      <td>\"Amsterdam\"</td>\n",
       "      <td>52.374540</td>\n",
       "      <td>4.897976</td>\n",
       "      <td>Amsterdam Airport Schiphol (AMS) (Amsterdam Ai...</td>\n",
       "      <td>52.308570</td>\n",
       "      <td>4.762123</td>\n",
       "    </tr>\n",
       "  </tbody>\n",
       "</table>\n",
       "</div>"
      ],
      "text/plain": [
       "       Country      Capital  Capital Latitude  Capital Longitude  \\\n",
       "0           UK     \"London\"         51.507322          -0.127647   \n",
       "1      Germany     \"Berlin\"         52.517037          13.388860   \n",
       "2       France      \"Paris\"         48.856610           2.351499   \n",
       "3  Netherlands  \"Amsterdam\"         52.374540           4.897976   \n",
       "\n",
       "                                               Venue  Venue Latitude  \\\n",
       "0  London Heathrow Airport (LHR) (London Heathrow...       51.469408   \n",
       "1  Flughafen Berlin-Tegel Otto Lilienthal (TXL) (...       52.554516   \n",
       "2  Aéroport Paris-Charles de Gaulle (CDG) (Aéropo...       49.006053   \n",
       "3  Amsterdam Airport Schiphol (AMS) (Amsterdam Ai...       52.308570   \n",
       "\n",
       "   Venue Longitude  \n",
       "0        -0.462348  \n",
       "1        13.293071  \n",
       "2         2.572303  \n",
       "3         4.762123  "
      ]
     },
     "execution_count": 102,
     "metadata": {},
     "output_type": "execute_result"
    }
   ],
   "source": [
    "Trending"
   ]
  },
  {
   "cell_type": "markdown",
   "metadata": {},
   "source": [
    "Here, I have got the \"Table\" for the trending places in the capital of the Target Countries.\n",
    "I have chosen the capitals for the purpose of simplicity."
   ]
  },
  {
   "cell_type": "markdown",
   "metadata": {},
   "source": [
    "Now, a nice plot of the above areas will give a better idea of the Target Segments."
   ]
  },
  {
   "cell_type": "code",
   "execution_count": 71,
   "metadata": {},
   "outputs": [
    {
     "name": "stdout",
     "output_type": "stream",
     "text": [
      "Solving environment: done\n",
      "\n",
      "## Package Plan ##\n",
      "\n",
      "  environment location: /home/jupyterlab/conda\n",
      "\n",
      "  added / updated specs: \n",
      "    - folium\n",
      "\n",
      "\n",
      "The following packages will be downloaded:\n",
      "\n",
      "    package                    |            build\n",
      "    ---------------------------|-----------------\n",
      "    vincent-0.4.4              |             py_1          28 KB  conda-forge\n",
      "    folium-0.7.0               |             py_0          54 KB  conda-forge\n",
      "    altair-2.3.0               |        py36_1001         533 KB  conda-forge\n",
      "    branca-0.3.1               |             py_0          25 KB  conda-forge\n",
      "    ------------------------------------------------------------\n",
      "                                           Total:         640 KB\n",
      "\n",
      "The following NEW packages will be INSTALLED:\n",
      "\n",
      "    altair:  2.3.0-py36_1001 conda-forge\n",
      "    branca:  0.3.1-py_0      conda-forge\n",
      "    folium:  0.7.0-py_0      conda-forge\n",
      "    vincent: 0.4.4-py_1      conda-forge\n",
      "\n",
      "\n",
      "Downloading and Extracting Packages\n",
      "vincent-0.4.4        | 28 KB     | ##################################### | 100% \n",
      "folium-0.7.0         | 54 KB     | ##################################### | 100% \n",
      "altair-2.3.0         | 533 KB    | ##################################### | 100% \n",
      "branca-0.3.1         | 25 KB     | ##################################### | 100% \n",
      "Preparing transaction: done\n",
      "Verifying transaction: done\n",
      "Executing transaction: done\n"
     ]
    }
   ],
   "source": [
    "!conda install -c conda-forge folium --yes"
   ]
  },
  {
   "cell_type": "code",
   "execution_count": 72,
   "metadata": {},
   "outputs": [],
   "source": [
    "import folium"
   ]
  },
  {
   "cell_type": "code",
   "execution_count": 104,
   "metadata": {},
   "outputs": [
    {
     "data": {
      "text/html": [
       "<div style=\"width:100%;\"><div style=\"position:relative;width:100%;height:0;padding-bottom:60%;\"><iframe src=\"data:text/html;charset=utf-8;base64,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\" style=\"position:absolute;width:100%;height:100%;left:0;top:0;border:none !important;\" allowfullscreen webkitallowfullscreen mozallowfullscreen></iframe></div></div>"
      ],
      "text/plain": [
       "<folium.folium.Map at 0x7fb01a45c630>"
      ]
     },
     "execution_count": 104,
     "metadata": {},
     "output_type": "execute_result"
    }
   ],
   "source": [
    "Map = folium.Map(location=[50,10], zoom_start=5)\n",
    "for ven,lat,lng in zip(Trending['Venue'] ,Trending['Venue Latitude'], Trending['Venue Longitude']):\n",
    "    label = '{}'.format(ven)\n",
    "    folium.Marker([lat,lng], popup=label).add_to(Map)\n",
    "      \n",
    "Map"
   ]
  },
  {
   "cell_type": "markdown",
   "metadata": {},
   "source": [
    "As on 17th Dec 2018, these were the trending areas as per the FourSquare API. But the list ,of trending areas, is very dynamic and changes on a daily basis."
   ]
  },
  {
   "cell_type": "markdown",
   "metadata": {},
   "source": [
    "This forms a Cohort of _Target Areas_  where any online/non-online retail store should focus on"
   ]
  },
  {
   "cell_type": "markdown",
   "metadata": {},
   "source": [
    "-Notebook by\n",
    "\n",
    " ### **Sumit Bhattacharya**\n",
    "   \n",
    "  #### Dated: 17th Dec, 2018"
   ]
  }
 ],
 "metadata": {
  "kernelspec": {
   "display_name": "Python 3",
   "language": "python",
   "name": "python3"
  },
  "language_info": {
   "codemirror_mode": {
    "name": "ipython",
    "version": 3
   },
   "file_extension": ".py",
   "mimetype": "text/x-python",
   "name": "python",
   "nbconvert_exporter": "python",
   "pygments_lexer": "ipython3",
   "version": "3.6.6"
  }
 },
 "nbformat": 4,
 "nbformat_minor": 2
}
